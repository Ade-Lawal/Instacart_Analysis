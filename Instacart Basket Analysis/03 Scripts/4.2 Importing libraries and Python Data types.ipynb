{
 "cells": [
  {
   "cell_type": "markdown",
   "metadata": {},
   "source": [
    "# 01. Importing libraries"
   ]
  },
  {
   "cell_type": "code",
   "execution_count": 1,
   "metadata": {},
   "outputs": [],
   "source": [
    "# Import libraries\n",
    "import pandas as pd\n",
    "import numpy as np\n",
    "import os"
   ]
  },
  {
   "cell_type": "markdown",
   "metadata": {},
   "source": [
    "# 02. Python Data types"
   ]
  },
  {
   "cell_type": "code",
   "execution_count": 3,
   "metadata": {},
   "outputs": [
    {
     "name": "stdout",
     "output_type": "stream",
     "text": [
      "100\n",
      "100\n",
      "100\n"
     ]
    }
   ],
   "source": [
    "# 3 different ways of reaching a result of 100 by adding or subtracting numeric variables\n",
    "print (50 + 50)\n",
    "print (115 - 15)\n",
    "print (200 - 100)"
   ]
  },
  {
   "cell_type": "code",
   "execution_count": 5,
   "metadata": {},
   "outputs": [
    {
     "name": "stdout",
     "output_type": "stream",
     "text": [
      "3.4615384615384612\n"
     ]
    }
   ],
   "source": [
    "#  2 floating-point variables and divide them by each other\n",
    "x = 4.5\n",
    "y = 1.3\n",
    "print(x/y)"
   ]
  },
  {
   "cell_type": "code",
   "execution_count": 12,
   "metadata": {},
   "outputs": [],
   "source": [
    "# Construct a short word made of separate strings (you’ll need to concatenate some strings!)"
   ]
  },
  {
   "cell_type": "code",
   "execution_count": 15,
   "metadata": {},
   "outputs": [],
   "source": [
    "a = 'Ger'"
   ]
  },
  {
   "cell_type": "code",
   "execution_count": 16,
   "metadata": {},
   "outputs": [],
   "source": [
    "b = 'many'"
   ]
  },
  {
   "cell_type": "code",
   "execution_count": 17,
   "metadata": {},
   "outputs": [
    {
     "data": {
      "text/plain": [
       "'Germany'"
      ]
     },
     "execution_count": 17,
     "metadata": {},
     "output_type": "execute_result"
    }
   ],
   "source": [
    "a + b"
   ]
  },
  {
   "cell_type": "code",
   "execution_count": null,
   "metadata": {},
   "outputs": [],
   "source": [
    "# Construct 2 short sentences made of separate strings."
   ]
  },
  {
   "cell_type": "code",
   "execution_count": 18,
   "metadata": {},
   "outputs": [],
   "source": [
    "a = 'My name is Ibrahim Ade Lawal. '"
   ]
  },
  {
   "cell_type": "code",
   "execution_count": 19,
   "metadata": {},
   "outputs": [],
   "source": [
    "b = 'I am from Nigeria, However, '"
   ]
  },
  {
   "cell_type": "code",
   "execution_count": 20,
   "metadata": {},
   "outputs": [],
   "source": [
    "c = 'I live in Berlin.'"
   ]
  },
  {
   "cell_type": "code",
   "execution_count": 21,
   "metadata": {},
   "outputs": [
    {
     "data": {
      "text/plain": [
       "'My name is Ibrahim Ade Lawal. I am from Nigeria, However, I live in Berlin.'"
      ]
     },
     "execution_count": 21,
     "metadata": {},
     "output_type": "execute_result"
    }
   ],
   "source": [
    "a + b + c"
   ]
  },
  {
   "cell_type": "code",
   "execution_count": 22,
   "metadata": {},
   "outputs": [],
   "source": [
    "e = 'Data is the oil of the 21st century.'"
   ]
  },
  {
   "cell_type": "code",
   "execution_count": 23,
   "metadata": {},
   "outputs": [],
   "source": [
    "f = 'One of the reasons I find data analysis interesting.'"
   ]
  },
  {
   "cell_type": "code",
   "execution_count": 24,
   "metadata": {},
   "outputs": [
    {
     "data": {
      "text/plain": [
       "'Data is the oil of the 21st century.One of the reasons I find data analysis interesting.'"
      ]
     },
     "execution_count": 24,
     "metadata": {},
     "output_type": "execute_result"
    }
   ],
   "source": [
    "e + f"
   ]
  },
  {
   "cell_type": "code",
   "execution_count": null,
   "metadata": {},
   "outputs": [],
   "source": [
    "# At the bottom of your file, include a command that makes a string appear 100 times"
   ]
  },
  {
   "cell_type": "code",
   "execution_count": 26,
   "metadata": {},
   "outputs": [
    {
     "name": "stdout",
     "output_type": "stream",
     "text": [
      "Gunjan is a nice tutor.\n",
      "Gunjan is a nice tutor.\n",
      "Gunjan is a nice tutor.\n",
      "Gunjan is a nice tutor.\n",
      "Gunjan is a nice tutor.\n",
      "Gunjan is a nice tutor.\n",
      "Gunjan is a nice tutor.\n",
      "Gunjan is a nice tutor.\n",
      "Gunjan is a nice tutor.\n",
      "Gunjan is a nice tutor.\n",
      "Gunjan is a nice tutor.\n",
      "Gunjan is a nice tutor.\n",
      "Gunjan is a nice tutor.\n",
      "Gunjan is a nice tutor.\n",
      "Gunjan is a nice tutor.\n",
      "Gunjan is a nice tutor.\n",
      "Gunjan is a nice tutor.\n",
      "Gunjan is a nice tutor.\n",
      "Gunjan is a nice tutor.\n",
      "Gunjan is a nice tutor.\n",
      "Gunjan is a nice tutor.\n",
      "Gunjan is a nice tutor.\n",
      "Gunjan is a nice tutor.\n",
      "Gunjan is a nice tutor.\n",
      "Gunjan is a nice tutor.\n",
      "Gunjan is a nice tutor.\n",
      "Gunjan is a nice tutor.\n",
      "Gunjan is a nice tutor.\n",
      "Gunjan is a nice tutor.\n",
      "Gunjan is a nice tutor.\n",
      "Gunjan is a nice tutor.\n",
      "Gunjan is a nice tutor.\n",
      "Gunjan is a nice tutor.\n",
      "Gunjan is a nice tutor.\n",
      "Gunjan is a nice tutor.\n",
      "Gunjan is a nice tutor.\n",
      "Gunjan is a nice tutor.\n",
      "Gunjan is a nice tutor.\n",
      "Gunjan is a nice tutor.\n",
      "Gunjan is a nice tutor.\n",
      "Gunjan is a nice tutor.\n",
      "Gunjan is a nice tutor.\n",
      "Gunjan is a nice tutor.\n",
      "Gunjan is a nice tutor.\n",
      "Gunjan is a nice tutor.\n",
      "Gunjan is a nice tutor.\n",
      "Gunjan is a nice tutor.\n",
      "Gunjan is a nice tutor.\n",
      "Gunjan is a nice tutor.\n",
      "Gunjan is a nice tutor.\n",
      "Gunjan is a nice tutor.\n",
      "Gunjan is a nice tutor.\n",
      "Gunjan is a nice tutor.\n",
      "Gunjan is a nice tutor.\n",
      "Gunjan is a nice tutor.\n",
      "Gunjan is a nice tutor.\n",
      "Gunjan is a nice tutor.\n",
      "Gunjan is a nice tutor.\n",
      "Gunjan is a nice tutor.\n",
      "Gunjan is a nice tutor.\n",
      "Gunjan is a nice tutor.\n",
      "Gunjan is a nice tutor.\n",
      "Gunjan is a nice tutor.\n",
      "Gunjan is a nice tutor.\n",
      "Gunjan is a nice tutor.\n",
      "Gunjan is a nice tutor.\n",
      "Gunjan is a nice tutor.\n",
      "Gunjan is a nice tutor.\n",
      "Gunjan is a nice tutor.\n",
      "Gunjan is a nice tutor.\n",
      "Gunjan is a nice tutor.\n",
      "Gunjan is a nice tutor.\n",
      "Gunjan is a nice tutor.\n",
      "Gunjan is a nice tutor.\n",
      "Gunjan is a nice tutor.\n",
      "Gunjan is a nice tutor.\n",
      "Gunjan is a nice tutor.\n",
      "Gunjan is a nice tutor.\n",
      "Gunjan is a nice tutor.\n",
      "Gunjan is a nice tutor.\n",
      "Gunjan is a nice tutor.\n",
      "Gunjan is a nice tutor.\n",
      "Gunjan is a nice tutor.\n",
      "Gunjan is a nice tutor.\n",
      "Gunjan is a nice tutor.\n",
      "Gunjan is a nice tutor.\n",
      "Gunjan is a nice tutor.\n",
      "Gunjan is a nice tutor.\n",
      "Gunjan is a nice tutor.\n",
      "Gunjan is a nice tutor.\n",
      "Gunjan is a nice tutor.\n",
      "Gunjan is a nice tutor.\n",
      "Gunjan is a nice tutor.\n",
      "Gunjan is a nice tutor.\n",
      "Gunjan is a nice tutor.\n",
      "Gunjan is a nice tutor.\n",
      "Gunjan is a nice tutor.\n",
      "Gunjan is a nice tutor.\n",
      "Gunjan is a nice tutor.\n",
      "Gunjan is a nice tutor.\n",
      "\n"
     ]
    }
   ],
   "source": [
    "x = 'Gunjan is a nice tutor.\\n'\n",
    "y = 100\n",
    "\n",
    "print (x * y)"
   ]
  },
  {
   "cell_type": "code",
   "execution_count": null,
   "metadata": {},
   "outputs": [],
   "source": []
  }
 ],
 "metadata": {
  "kernelspec": {
   "display_name": "Python 3",
   "language": "python",
   "name": "python3"
  },
  "language_info": {
   "codemirror_mode": {
    "name": "ipython",
    "version": 3
   },
   "file_extension": ".py",
   "mimetype": "text/x-python",
   "name": "python",
   "nbconvert_exporter": "python",
   "pygments_lexer": "ipython3",
   "version": "3.8.5"
  }
 },
 "nbformat": 4,
 "nbformat_minor": 4
}
